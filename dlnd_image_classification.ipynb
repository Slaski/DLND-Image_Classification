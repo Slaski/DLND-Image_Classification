{
 "cells": [
  {
   "cell_type": "markdown",
   "metadata": {
    "collapsed": true
   },
   "source": [
    "# Image Classification\n",
    "In this project, you'll classify images from the [CIFAR-10 dataset](https://www.cs.toronto.edu/~kriz/cifar.html).  The dataset consists of airplanes, dogs, cats, and other objects. You'll preprocess the images, then train a convolutional neural network on all the samples. The images need to be normalized and the labels need to be one-hot encoded.  You'll get to apply what you learned and build a convolutional, max pooling, dropout, and fully connected layers.  At the end, you'll get to see your neural network's predictions on the sample images.\n",
    "## Get the Data\n",
    "Run the following cell to download the [CIFAR-10 dataset for python](https://www.cs.toronto.edu/~kriz/cifar-10-python.tar.gz)."
   ]
  },
  {
   "cell_type": "code",
   "execution_count": 1,
   "metadata": {
    "collapsed": false
   },
   "outputs": [
    {
     "name": "stderr",
     "output_type": "stream",
     "text": [
      "CIFAR-10 Dataset: 171MB [15:16, 186KB/s]                                                                               \n"
     ]
    },
    {
     "name": "stdout",
     "output_type": "stream",
     "text": [
      "All files found!\n"
     ]
    }
   ],
   "source": [
    "\"\"\"\n",
    "DON'T MODIFY ANYTHING IN THIS CELL THAT IS BELOW THIS LINE\n",
    "\"\"\"\n",
    "from urllib.request import urlretrieve\n",
    "from os.path import isfile, isdir\n",
    "from tqdm import tqdm\n",
    "import problem_unittests as tests\n",
    "import tarfile\n",
    "\n",
    "cifar10_dataset_folder_path = 'cifar-10-batches-py'\n",
    "\n",
    "class DLProgress(tqdm):\n",
    "    last_block = 0\n",
    "\n",
    "    def hook(self, block_num=1, block_size=1, total_size=None):\n",
    "        self.total = total_size\n",
    "        self.update((block_num - self.last_block) * block_size)\n",
    "        self.last_block = block_num\n",
    "\n",
    "if not isfile('cifar-10-python.tar.gz'):\n",
    "    with DLProgress(unit='B', unit_scale=True, miniters=1, desc='CIFAR-10 Dataset') as pbar:\n",
    "        urlretrieve(\n",
    "            'https://www.cs.toronto.edu/~kriz/cifar-10-python.tar.gz',\n",
    "            'cifar-10-python.tar.gz',\n",
    "            pbar.hook)\n",
    "\n",
    "if not isdir(cifar10_dataset_folder_path):\n",
    "    with tarfile.open('cifar-10-python.tar.gz') as tar:\n",
    "        tar.extractall()\n",
    "        tar.close()\n",
    "\n",
    "\n",
    "tests.test_folder_path(cifar10_dataset_folder_path)"
   ]
  },
  {
   "cell_type": "markdown",
   "metadata": {},
   "source": [
    "## Explore the Data\n",
    "The dataset is broken into batches to prevent your machine from running out of memory.  The CIFAR-10 dataset consists of 5 batches, named `data_batch_1`, `data_batch_2`, etc.. Each batch contains the labels and images that are one of the following:\n",
    "* airplane\n",
    "* automobile\n",
    "* bird\n",
    "* cat\n",
    "* deer\n",
    "* dog\n",
    "* frog\n",
    "* horse\n",
    "* ship\n",
    "* truck\n",
    "\n",
    "Understanding a dataset is part of making predictions on the data.  Play around with the code cell below by changing the `batch_id` and `sample_id`. The `batch_id` is the id for a batch (1-5). The `sample_id` is the id for a image and label pair in the batch.\n",
    "\n",
    "Ask yourself \"What are all possible labels?\", \"What is the range of values for the image data?\", \"Are the labels in order or random?\".  Answers to questions like these will help you preprocess the data and end up with better predictions."
   ]
  },
  {
   "cell_type": "code",
   "execution_count": 2,
   "metadata": {
    "collapsed": false
   },
   "outputs": [
    {
     "name": "stdout",
     "output_type": "stream",
     "text": [
      "\n",
      "Stats of batch 3:\n",
      "Samples: 10000\n",
      "Label Counts: {0: 994, 1: 1042, 2: 965, 3: 997, 4: 990, 5: 1029, 6: 978, 7: 1015, 8: 961, 9: 1029}\n",
      "First 20 Labels: [8, 5, 0, 6, 9, 2, 8, 3, 6, 2, 7, 4, 6, 9, 0, 0, 7, 3, 7, 2]\n",
      "\n",
      "Example of Image 100:\n",
      "Image - Min Value: 4 Max Value: 255\n",
      "Image - Shape: (32, 32, 3)\n",
      "Label - Label Id: 8 Name: ship\n"
     ]
    },
    {
     "data": {
      "image/png": "[encoded data removed]",
      "text/plain": [
       "<matplotlib.figure.Figure at 0x24c758b1710>"
      ]
     },
     "metadata": {
      "image/png": {
       "height": 250,
       "width": 253
      }
     },
     "output_type": "display_data"
    }
   ],
   "source": [
    "%matplotlib inline\n",
    "%config InlineBackend.figure_format = 'retina'\n",
    "\n",
    "import helper\n",
    "import numpy as np\n",
    "\n",
    "# Explore the dataset\n",
    "batch_id = 3\n",
    "sample_id = 100\n",
    "helper.display_stats(cifar10_dataset_folder_path, batch_id, sample_id)"
   ]
  },
  {
   "cell_type": "markdown",
   "metadata": {},
   "source": [
    "## Implement Preprocess Functions\n",
    "### Normalize\n",
    "In the cell below, implement the `normalize` function to take in image data, `x`, and return it as a normalized Numpy array. The values should be in the range of 0 to 1, inclusive.  The return object should be the same shape as `x`."
   ]
  },
  {
   "cell_type": "code",
   "execution_count": 3,
   "metadata": {
    "collapsed": false
   },
   "outputs": [
    {
     "name": "stdout",
     "output_type": "stream",
     "text": [
      "Tests Passed\n"
     ]
    }
   ],
   "source": [
    "def normalize(x):\n",
    "    \"\"\"\n",
    "    Normalize a list of sample image data in the range of 0 to 1\n",
    "    : x: List of image data.  The image shape is (32, 32, 3)\n",
    "    : return: Numpy array of normalize data\n",
    "    \"\"\"\n",
    "    # TODO: Implement Function\n",
    "    a, b = 0.0, 1.0\n",
    "    xmin, xmax = 0, 255\n",
    "    \n",
    "    return a + ((x-xmin) * (b-a))/(xmax-xmin)\n",
    "\n",
    "\n",
    "\"\"\"\n",
    "DON'T MODIFY ANYTHING IN THIS CELL THAT IS BELOW THIS LINE\n",
    "\"\"\"\n",
    "tests.test_normalize(normalize)"
   ]
  },
  {
   "cell_type": "markdown",
   "metadata": {},
   "source": [
    "### One-hot encode\n",
    "Just like the previous code cell, you'll be implementing a function for preprocessing.  This time, you'll implement the `one_hot_encode` function. The input, `x`, are a list of labels.  Implement the function to return the list of labels as One-Hot encoded Numpy array.  The possible values for labels are 0 to 9. The one-hot encoding function should return the same encoding for each value between each call to `one_hot_encode`.  Make sure to save the map of encodings outside the function.\n",
    "\n",
    "Hint: Don't reinvent the wheel."
   ]
  },
  {
   "cell_type": "code",
   "execution_count": 4,
   "metadata": {
    "collapsed": false
   },
   "outputs": [
    {
     "name": "stdout",
     "output_type": "stream",
     "text": [
      "Tests Passed\n"
     ]
    }
   ],
   "source": [
    "def one_hot_encode(x):\n",
    "    \"\"\"\n",
    "    One hot encode a list of sample labels. Return a one-hot encoded vector for each label.\n",
    "    : x: List of sample Labels\n",
    "    : return: Numpy array of one-hot encoded labels\n",
    "    \"\"\"\n",
    "    # TODO: Implement Function\n",
    "    result = np.zeros((len(x), 10))\n",
    "    for i in range(len(x)):\n",
    "        result[i, x[i]] = 1\n",
    "        \n",
    "    return result \n",
    "\n",
    "\n",
    "\"\"\"\n",
    "DON'T MODIFY ANYTHING IN THIS CELL THAT IS BELOW THIS LINE\n",
    "\"\"\"\n",
    "tests.test_one_hot_encode(one_hot_encode)"
   ]
  },
  {
   "cell_type": "markdown",
   "metadata": {},
   "source": [
    "### Randomize Data\n",
    "As you saw from exploring the data above, the order of the samples are randomized.  It doesn't hurt to randomize it again, but you don't need to for this dataset."
   ]
  },
  {
   "cell_type": "markdown",
   "metadata": {},
   "source": [
    "## Preprocess all the data and save it\n",
    "Running the code cell below will preprocess all the CIFAR-10 data and save it to file. The code below also uses 10% of the training data for validation."
   ]
  },
  {
   "cell_type": "code",
   "execution_count": 5,
   "metadata": {
    "collapsed": false
   },
   "outputs": [],
   "source": [
    "\"\"\"\n",
    "DON'T MODIFY ANYTHING IN THIS CELL\n",
    "\"\"\"\n",
    "# Preprocess Training, Validation, and Testing Data\n",
    "helper.preprocess_and_save_data(cifar10_dataset_folder_path, normalize, one_hot_encode)"
   ]
  },
  {
   "cell_type": "markdown",
   "metadata": {},
   "source": [
    "# Check Point\n",
    "This is your first checkpoint.  If you ever decide to come back to this notebook or have to restart the notebook, you can start from here.  The preprocessed data has been saved to disk."
   ]
  },
  {
   "cell_type": "code",
   "execution_count": 1,
   "metadata": {
    "collapsed": true
   },
   "outputs": [],
   "source": [
    "\"\"\"\n",
    "DON'T MODIFY ANYTHING IN THIS CELL\n",
    "\"\"\"\n",
    "import pickle\n",
    "import problem_unittests as tests\n",
    "import helper\n",
    "\n",
    "# Load the Preprocessed Validation data\n",
    "valid_features, valid_labels = pickle.load(open('preprocess_validation.p', mode='rb'))"
   ]
  },
  {
   "cell_type": "markdown",
   "metadata": {},
   "source": [
    "## Build the network\n",
    "For the neural network, you'll build each layer into a function.  Most of the code you've seen has been outside of functions. To test your code more thoroughly, we require that you put each layer in a function.  This allows us to give you better feedback and test for simple mistakes using our unittests before you submit your project.\n",
    "\n",
    ">**Note:** If you're finding it hard to dedicate enough time for this course each week, we've provided a small shortcut to this part of the project. In the next couple of problems, you'll have the option to use classes from the [TensorFlow Layers](https://www.tensorflow.org/api_docs/python/tf/layers) or [TensorFlow Layers (contrib)](https://www.tensorflow.org/api_guides/python/contrib.layers) packages to build each layer, except the layers you build in the \"Convolutional and Max Pooling Layer\" section.  TF Layers is similar to Keras's and TFLearn's abstraction to layers, so it's easy to pickup.\n",
    "\n",
    ">However, if you would like to get the most out of this course, try to solve all the problems _without_ using anything from the TF Layers packages. You **can** still use classes from other packages that happen to have the same name as ones you find in TF Layers! For example, instead of using the TF Layers version of the `conv2d` class, [tf.layers.conv2d](https://www.tensorflow.org/api_docs/python/tf/layers/conv2d), you would want to use the TF Neural Network version of `conv2d`, [tf.nn.conv2d](https://www.tensorflow.org/api_docs/python/tf/nn/conv2d). \n",
    "\n",
    "Let's begin!\n",
    "\n",
    "### Input\n",
    "The neural network needs to read the image data, one-hot encoded labels, and dropout keep probability. Implement the following functions\n",
    "* Implement `neural_net_image_input`\n",
    " * Return a [TF Placeholder](https://www.tensorflow.org/api_docs/python/tf/placeholder)\n",
    " * Set the shape using `image_shape` with batch size set to `None`.\n",
    " * Name the TensorFlow placeholder \"x\" using the TensorFlow `name` parameter in the [TF Placeholder](https://www.tensorflow.org/api_docs/python/tf/placeholder).\n",
    "* Implement `neural_net_label_input`\n",
    " * Return a [TF Placeholder](https://www.tensorflow.org/api_docs/python/tf/placeholder)\n",
    " * Set the shape using `n_classes` with batch size set to `None`.\n",
    " * Name the TensorFlow placeholder \"y\" using the TensorFlow `name` parameter in the [TF Placeholder](https://www.tensorflow.org/api_docs/python/tf/placeholder).\n",
    "* Implement `neural_net_keep_prob_input`\n",
    " * Return a [TF Placeholder](https://www.tensorflow.org/api_docs/python/tf/placeholder) for dropout keep probability.\n",
    " * Name the TensorFlow placeholder \"keep_prob\" using the TensorFlow `name` parameter in the [TF Placeholder](https://www.tensorflow.org/api_docs/python/tf/placeholder).\n",
    "\n",
    "These names will be used at the end of the project to load your saved model.\n",
    "\n",
    "Note: `None` for shapes in TensorFlow allow for a dynamic size."
   ]
  },
  {
   "cell_type": "code",
   "execution_count": 2,
   "metadata": {
    "collapsed": false
   },
   "outputs": [
    {
     "name": "stdout",
     "output_type": "stream",
     "text": [
      "Image Input Tests Passed.\n",
      "Label Input Tests Passed.\n",
      "Keep Prob Tests Passed.\n"
     ]
    }
   ],
   "source": [
    "import tensorflow as tf\n",
    "\n",
    "def neural_net_image_input(image_shape):\n",
    "    \"\"\"\n",
    "    Return a Tensor for a bach of image input\n",
    "    : image_shape: Shape of the images\n",
    "    : return: Tensor for image input.\n",
    "    \"\"\"\n",
    "    # TODO: Implement Function\n",
    "    return tf.placeholder(tf.float32, shape=[None, image_shape[0], image_shape[1], image_shape[2]], name='x')\n",
    "\n",
    "\n",
    "def neural_net_label_input(n_classes):\n",
    "    \"\"\"\n",
    "    Return a Tensor for a batch of label input\n",
    "    : n_classes: Number of classes\n",
    "    : return: Tensor for label input.\n",
    "    \"\"\"\n",
    "    # TODO: Implement Function\n",
    "    return tf.placeholder(tf.float32, shape=(None, n_classes), name='y')\n",
    "\n",
    "\n",
    "def neural_net_keep_prob_input():\n",
    "    \"\"\"\n",
    "    Return a Tensor for keep probability\n",
    "    : return: Tensor for keep probability.\n",
    "    \"\"\"\n",
    "    # TODO: Implement Function\n",
    "    return tf.placeholder(tf.float32, name='keep_prob')\n",
    "\n",
    "\n",
    "\"\"\"\n",
    "DON'T MODIFY ANYTHING IN THIS CELL THAT IS BELOW THIS LINE\n",
    "\"\"\"\n",
    "tf.reset_default_graph()\n",
    "tests.test_nn_image_inputs(neural_net_image_input)\n",
    "tests.test_nn_label_inputs(neural_net_label_input)\n",
    "tests.test_nn_keep_prob_inputs(neural_net_keep_prob_input)"
   ]
  },
  {
   "cell_type": "markdown",
   "metadata": {},
   "source": [
    "### Convolution and Max Pooling Layer\n",
    "Convolution layers have a lot of success with images. For this code cell, you should implement the function `conv2d_maxpool` to apply convolution then max pooling:\n",
    "* Create the weight and bias using `conv_ksize`, `conv_num_outputs` and the shape of `x_tensor`.\n",
    "* Apply a convolution to `x_tensor` using weight and `conv_strides`.\n",
    " * We recommend you use same padding, but you're welcome to use any padding.\n",
    "* Add bias\n",
    "* Add a nonlinear activation to the convolution.\n",
    "* Apply Max Pooling using `pool_ksize` and `pool_strides`.\n",
    " * We recommend you use same padding, but you're welcome to use any padding.\n",
    "\n",
    "**Note:** You **can't** use [TensorFlow Layers](https://www.tensorflow.org/api_docs/python/tf/layers) or [TensorFlow Layers (contrib)](https://www.tensorflow.org/api_guides/python/contrib.layers) for **this** layer, but you can still use TensorFlow's [Neural Network](https://www.tensorflow.org/api_docs/python/tf/nn) package. You may still use the shortcut option for all the **other** layers."
   ]
  },
  {
   "cell_type": "code",
   "execution_count": 3,
   "metadata": {
    "collapsed": false
   },
   "outputs": [
    {
     "name": "stdout",
     "output_type": "stream",
     "text": [
      "Tests Passed\n"
     ]
    }
   ],
   "source": [
    "def conv2d_maxpool(x_tensor, conv_num_outputs, conv_ksize, conv_strides, pool_ksize, pool_strides):\n",
    "    \"\"\"\n",
    "    Apply convolution then max pooling to x_tensor\n",
    "    :param x_tensor: TensorFlow Tensor\n",
    "    :param conv_num_outputs: Number of outputs for the convolutional layer\n",
    "    :param conv_ksize: kernal size 2-D Tuple for the convolutional layer\n",
    "    :param conv_strides: Stride 2-D Tuple for convolution\n",
    "    :param pool_ksize: kernal size 2-D Tuple for pool\n",
    "    :param pool_strides: Stride 2-D Tuple for pool\n",
    "    : return: A tensor that represents convolution and max pooling of x_tensor\n",
    "    \"\"\"\n",
    "    # TODO: Implement Function\n",
    "    \n",
    "    # Get the dimensions\n",
    "    input_height, input_width, input_depth = list(map(int, x_tensor.get_shape().as_list()[1:]))\n",
    "    conv_kernel_height, conv_kernel_width = conv_ksize\n",
    "    pool_kernel_height, pool_kernel_width = pool_ksize\n",
    "    \n",
    "    # Define the filter weights and the bias based on those dimensions\n",
    "    filter_weights = tf.Variable(tf.truncated_normal((conv_kernel_height, conv_kernel_width, input_depth, conv_num_outputs),\n",
    "                                                     mean=0.0,\n",
    "                                                     stddev=0.1))\n",
    "    filter_bias = tf.Variable(tf.zeros(conv_num_outputs))\n",
    "    \n",
    "    # Define the CNN\n",
    "    conv_layer = tf.nn.conv2d(x_tensor, \n",
    "                              filter=filter_weights, \n",
    "                              strides=[1, conv_strides[0], conv_strides[1], 1], \n",
    "                              padding='SAME')\n",
    "    conv_layer = tf.nn.bias_add(conv_layer, filter_bias)\n",
    "    \n",
    "    # Add a nonlinear activation\n",
    "    conv_layer = tf.nn.relu(conv_layer)\n",
    "    \n",
    "    # Add a pooling layer\n",
    "    conv_layer = tf.nn.max_pool(conv_layer,\n",
    "                                ksize=[1, pool_kernel_height, pool_kernel_width, 1],\n",
    "                                strides=[1, pool_strides[0], pool_strides[1], 1],\n",
    "                                padding='SAME')\n",
    "    \n",
    "    return conv_layer \n",
    "\n",
    "\n",
    "\"\"\"\n",
    "DON'T MODIFY ANYTHING IN THIS CELL THAT IS BELOW THIS LINE\n",
    "\"\"\"\n",
    "tests.test_con_pool(conv2d_maxpool)"
   ]
  },
  {
   "cell_type": "markdown",
   "metadata": {},
   "source": [
    "### Flatten Layer\n",
    "Implement the `flatten` function to change the dimension of `x_tensor` from a 4-D tensor to a 2-D tensor.  The output should be the shape (*Batch Size*, *Flattened Image Size*). Shortcut option: you can use classes from the [TensorFlow Layers](https://www.tensorflow.org/api_docs/python/tf/layers) or [TensorFlow Layers (contrib)](https://www.tensorflow.org/api_guides/python/contrib.layers) packages for this layer. For more of a challenge, only use other TensorFlow packages."
   ]
  },
  {
   "cell_type": "code",
   "execution_count": 4,
   "metadata": {
    "collapsed": false
   },
   "outputs": [
    {
     "name": "stdout",
     "output_type": "stream",
     "text": [
      "Tests Passed\n"
     ]
    }
   ],
   "source": [
    "def flatten(x_tensor):\n",
    "    \"\"\"\n",
    "    Flatten x_tensor to (Batch Size, Flattened Image Size)\n",
    "    : x_tensor: A tensor of size (Batch Size, ...), where ... are the image dimensions.\n",
    "    : return: A tensor of size (Batch Size, Flattened Image Size).\n",
    "    \"\"\"\n",
    "    # TODO: Implement Function\n",
    "    height, width, depth = x_tensor.get_shape().as_list()[1:]\n",
    "    flatten_size = int(height * width * depth)\n",
    "    return tf.reshape(x_tensor, [-1, flatten_size])\n",
    "\n",
    "\n",
    "\"\"\"\n",
    "DON'T MODIFY ANYTHING IN THIS CELL THAT IS BELOW THIS LINE\n",
    "\"\"\"\n",
    "tests.test_flatten(flatten)"
   ]
  },
  {
   "cell_type": "markdown",
   "metadata": {},
   "source": [
    "### Fully-Connected Layer\n",
    "Implement the `fully_conn` function to apply a fully connected layer to `x_tensor` with the shape (*Batch Size*, *num_outputs*). Shortcut option: you can use classes from the [TensorFlow Layers](https://www.tensorflow.org/api_docs/python/tf/layers) or [TensorFlow Layers (contrib)](https://www.tensorflow.org/api_guides/python/contrib.layers) packages for this layer. For more of a challenge, only use other TensorFlow packages."
   ]
  },
  {
   "cell_type": "code",
   "execution_count": 5,
   "metadata": {
    "collapsed": false
   },
   "outputs": [
    {
     "name": "stdout",
     "output_type": "stream",
     "text": [
      "Tests Passed\n"
     ]
    }
   ],
   "source": [
    "def fully_conn(x_tensor, num_outputs):\n",
    "    \"\"\"\n",
    "    Apply a fully connected layer to x_tensor using weight and bias\n",
    "    : x_tensor: A 2-D tensor where the first dimension is batch size.\n",
    "    : num_outputs: The number of output that the new tensor should be.\n",
    "    : return: A 2-D tensor where the second dimension is num_outputs.\n",
    "    \"\"\"\n",
    "    # TODO: Implement Function    \n",
    "    weights = tf.Variable(tf.truncated_normal([int(x_tensor.get_shape().as_list()[1]), num_outputs],\n",
    "                                              mean=0.0,\n",
    "                                              stddev=0.1))\n",
    "    bias = tf.Variable(tf.truncated_normal([num_outputs],\n",
    "                      mean=0.0,\n",
    "                      stddev=0.1))\n",
    "    \n",
    "    layer = tf.matmul(x_tensor, weights) + bias\n",
    "    layer = tf.nn.relu(layer)\n",
    "    \n",
    "    return layer\n",
    "\n",
    "\"\"\"\n",
    "DON'T MODIFY ANYTHING IN THIS CELL THAT IS BELOW THIS LINE\n",
    "\"\"\"\n",
    "tests.test_fully_conn(fully_conn)"
   ]
  },
  {
   "cell_type": "markdown",
   "metadata": {},
   "source": [
    "### Output Layer\n",
    "Implement the `output` function to apply a fully connected layer to `x_tensor` with the shape (*Batch Size*, *num_outputs*). Shortcut option: you can use classes from the [TensorFlow Layers](https://www.tensorflow.org/api_docs/python/tf/layers) or [TensorFlow Layers (contrib)](https://www.tensorflow.org/api_guides/python/contrib.layers) packages for this layer. For more of a challenge, only use other TensorFlow packages.\n",
    "\n",
    "**Note:** Activation, softmax, or cross entropy should **not** be applied to this."
   ]
  },
  {
   "cell_type": "code",
   "execution_count": 6,
   "metadata": {
    "collapsed": false
   },
   "outputs": [
    {
     "name": "stdout",
     "output_type": "stream",
     "text": [
      "Tests Passed\n"
     ]
    }
   ],
   "source": [
    "def output(x_tensor, num_outputs):\n",
    "    \"\"\"\n",
    "    Apply a output layer to x_tensor using weight and bias\n",
    "    : x_tensor: A 2-D tensor where the first dimension is batch size.\n",
    "    : num_outputs: The number of output that the new tensor should be.\n",
    "    : return: A 2-D tensor where the second dimension is num_outputs.\n",
    "    \"\"\"\n",
    "    # TODO: Implement Function\n",
    "    weights = tf.Variable(tf.truncated_normal([int(x_tensor.get_shape().as_list()[1]), num_outputs],\n",
    "                                              mean=0.0,\n",
    "                                              stddev=0.1))\n",
    "    bias = tf.Variable(tf.truncated_normal([num_outputs],\n",
    "                      mean=0.0,\n",
    "                      stddev=0.1))\n",
    "    \n",
    "    layer = tf.matmul(x_tensor, weights) + bias\n",
    "    \n",
    "    return layer\n",
    "\n",
    "\n",
    "\"\"\"\n",
    "DON'T MODIFY ANYTHING IN THIS CELL THAT IS BELOW THIS LINE\n",
    "\"\"\"\n",
    "tests.test_output(output)"
   ]
  },
  {
   "cell_type": "markdown",
   "metadata": {},
   "source": [
    "### Create Convolutional Model\n",
    "Implement the function `conv_net` to create a convolutional neural network model. The function takes in a batch of images, `x`, and outputs logits.  Use the layers you created above to create this model:\n",
    "\n",
    "* Apply 1, 2, or 3 Convolution and Max Pool layers\n",
    "* Apply a Flatten Layer\n",
    "* Apply 1, 2, or 3 Fully Connected Layers\n",
    "* Apply an Output Layer\n",
    "* Return the output\n",
    "* Apply [TensorFlow's Dropout](https://www.tensorflow.org/api_docs/python/tf/nn/dropout) to one or more layers in the model using `keep_prob`. "
   ]
  },
  {
   "cell_type": "code",
   "execution_count": 7,
   "metadata": {
    "collapsed": false
   },
   "outputs": [
    {
     "name": "stdout",
     "output_type": "stream",
     "text": [
      "Neural Network Built!\n"
     ]
    }
   ],
   "source": [
    "def conv_net(x, keep_prob):\n",
    "    \"\"\"\n",
    "    Create a convolutional neural network model\n",
    "    : x: Placeholder tensor that holds image data.\n",
    "    : keep_prob: Placeholder tensor that hold dropout keep probability.\n",
    "    : return: Tensor that represents logits\n",
    "    \"\"\"\n",
    "    # TODO: Apply 1, 2, or 3 Convolution and Max Pool layers\n",
    "    #    Play around with different number of outputs, kernel size and stride\n",
    "    # Function Definition from Above:\n",
    "    #    conv2d_maxpool(x_tensor, conv_num_outputs, conv_ksize, conv_strides, pool_ksize, pool_strides)\n",
    "    conv_layer = conv2d_maxpool(x, \n",
    "                                conv_num_outputs=16, \n",
    "                                conv_ksize=(5,5), \n",
    "                                conv_strides=(1,1), \n",
    "                                pool_ksize=(2,2), \n",
    "                                pool_strides=(2,2))\n",
    "    \n",
    "    conv_layer = conv2d_maxpool(conv_layer, \n",
    "                                conv_num_outputs=32, \n",
    "                                conv_ksize=(5,5), \n",
    "                                conv_strides=(1,1), \n",
    "                                pool_ksize=(2,2), \n",
    "                                pool_strides=(2,2))\n",
    "    \n",
    "    conv_layer = conv2d_maxpool(conv_layer, \n",
    "                                conv_num_outputs=64, \n",
    "                                conv_ksize=(5,5), \n",
    "                                conv_strides=(1,1), \n",
    "                                pool_ksize=(2,2), \n",
    "                                pool_strides=(2,2))\n",
    "\n",
    "    # TODO: Apply a Flatten Layer\n",
    "    # Function Definition from Above:\n",
    "    #   flatten(x_tensor)\n",
    "    flat_layer = flatten(conv_layer)\n",
    "\n",
    "    # TODO: Apply 1, 2, or 3 Fully Connected Layers\n",
    "    #    Play around with different number of outputs\n",
    "    # Function Definition from Above:\n",
    "    #   fully_conn(x_tensor, num_outputs)\n",
    "    fc_layer = fully_conn(flat_layer, 500)\n",
    "    fc_layer = tf.nn.dropout(fc_layer, keep_prob)\n",
    "    \n",
    "    fc_layer = fully_conn(fc_layer, 250)\n",
    "    fc_layer = tf.nn.dropout(fc_layer, keep_prob)\n",
    "    \n",
    "    # TODO: Apply an Output Layer\n",
    "    #    Set this to the number of classes\n",
    "    # Function Definition from Above:\n",
    "    #   output(x_tensor, num_outputs)\n",
    "    out_layer = output(fc_layer, 10)\n",
    "    \n",
    "    # TODO: return output\n",
    "    return out_layer\n",
    "\n",
    "\n",
    "\"\"\"\n",
    "DON'T MODIFY ANYTHING IN THIS CELL THAT IS BELOW THIS LINE\n",
    "\"\"\"\n",
    "\n",
    "##############################\n",
    "## Build the Neural Network ##\n",
    "##############################\n",
    "\n",
    "# Remove previous weights, bias, inputs, etc..\n",
    "tf.reset_default_graph()\n",
    "\n",
    "# Inputs\n",
    "x = neural_net_image_input((32, 32, 3))\n",
    "y = neural_net_label_input(10)\n",
    "keep_prob = neural_net_keep_prob_input()\n",
    "\n",
    "# Model\n",
    "logits = conv_net(x, keep_prob)\n",
    "\n",
    "# Name logits Tensor, so that is can be loaded from disk after training\n",
    "logits = tf.identity(logits, name='logits')\n",
    "\n",
    "# Loss and Optimizer\n",
    "cost = tf.reduce_mean(tf.nn.softmax_cross_entropy_with_logits(logits=logits, labels=y))\n",
    "optimizer = tf.train.AdamOptimizer().minimize(cost)\n",
    "\n",
    "# Accuracy\n",
    "correct_pred = tf.equal(tf.argmax(logits, 1), tf.argmax(y, 1))\n",
    "accuracy = tf.reduce_mean(tf.cast(correct_pred, tf.float32), name='accuracy')\n",
    "\n",
    "tests.test_conv_net(conv_net)"
   ]
  },
  {
   "cell_type": "markdown",
   "metadata": {},
   "source": [
    "## Train the Neural Network\n",
    "### Single Optimization\n",
    "Implement the function `train_neural_network` to do a single optimization.  The optimization should use `optimizer` to optimize in `session` with a `feed_dict` of the following:\n",
    "* `x` for image input\n",
    "* `y` for labels\n",
    "* `keep_prob` for keep probability for dropout\n",
    "\n",
    "This function will be called for each batch, so `tf.global_variables_initializer()` has already been called.\n",
    "\n",
    "Note: Nothing needs to be returned. This function is only optimizing the neural network."
   ]
  },
  {
   "cell_type": "code",
   "execution_count": 8,
   "metadata": {
    "collapsed": false
   },
   "outputs": [
    {
     "name": "stdout",
     "output_type": "stream",
     "text": [
      "Tests Passed\n"
     ]
    }
   ],
   "source": [
    "def train_neural_network(session, optimizer, keep_probability, feature_batch, label_batch):\n",
    "    \"\"\"\n",
    "    Optimize the session on a batch of images and labels\n",
    "    : session: Current TensorFlow session\n",
    "    : optimizer: TensorFlow optimizer function\n",
    "    : keep_probability: keep probability\n",
    "    : feature_batch: Batch of Numpy image data\n",
    "    : label_batch: Batch of Numpy label data\n",
    "    \"\"\"\n",
    "    # TODO: Implement Function\n",
    "    session.run(optimizer, feed_dict={\n",
    "        x: feature_batch,\n",
    "        y: label_batch,\n",
    "        keep_prob: keep_probability\n",
    "    })\n",
    "\n",
    "\n",
    "\"\"\"\n",
    "DON'T MODIFY ANYTHING IN THIS CELL THAT IS BELOW THIS LINE\n",
    "\"\"\"\n",
    "tests.test_train_nn(train_neural_network)"
   ]
  },
  {
   "cell_type": "markdown",
   "metadata": {},
   "source": [
    "### Show Stats\n",
    "Implement the function `print_stats` to print loss and validation accuracy.  Use the global variables `valid_features` and `valid_labels` to calculate validation accuracy.  Use a keep probability of `1.0` to calculate the loss and validation accuracy."
   ]
  },
  {
   "cell_type": "code",
   "execution_count": 9,
   "metadata": {
    "collapsed": false
   },
   "outputs": [],
   "source": [
    "def print_stats(session, feature_batch, label_batch, cost, accuracy):\n",
    "    \"\"\"\n",
    "    Print information about loss and validation accuracy\n",
    "    : session: Current TensorFlow session\n",
    "    : feature_batch: Batch of Numpy image data\n",
    "    : label_batch: Batch of Numpy label data\n",
    "    : cost: TensorFlow cost function\n",
    "    : accuracy: TensorFlow accuracy function\n",
    "    \"\"\"\n",
    "    # TODO: Implement Function\n",
    "    loss = sess.run(cost, feed_dict={\n",
    "        x: feature_batch,\n",
    "        y: label_batch,\n",
    "        keep_prob: 1.\n",
    "    })\n",
    "    \n",
    "    valid_acc = sess.run(accuracy, feed_dict={\n",
    "        x: feature_batch,\n",
    "        y: label_batch,\n",
    "        keep_prob: 1.\n",
    "    })\n",
    "    \n",
    "    print('Loss: {} Validation Accuracy: {}'.format(loss, valid_acc))"
   ]
  },
  {
   "cell_type": "markdown",
   "metadata": {},
   "source": [
    "### Hyperparameters\n",
    "Tune the following parameters:\n",
    "* Set `epochs` to the number of iterations until the network stops learning or start overfitting\n",
    "* Set `batch_size` to the highest number that your machine has memory for.  Most people set them to common sizes of memory:\n",
    " * 64\n",
    " * 128\n",
    " * 256\n",
    " * ...\n",
    "* Set `keep_probability` to the probability of keeping a node using dropout"
   ]
  },
  {
   "cell_type": "code",
   "execution_count": 10,
   "metadata": {
    "collapsed": true
   },
   "outputs": [],
   "source": [
    "# TODO: Tune Parameters\n",
    "epochs = 50\n",
    "batch_size = 128\n",
    "keep_probability = 0.5"
   ]
  },
  {
   "cell_type": "markdown",
   "metadata": {},
   "source": [
    "### Train on a Single CIFAR-10 Batch\n",
    "Instead of training the neural network on all the CIFAR-10 batches of data, let's use a single batch. This should save time while you iterate on the model to get a better accuracy.  Once the final validation accuracy is 50% or greater, run the model on all the data in the next section."
   ]
  },
  {
   "cell_type": "code",
   "execution_count": 11,
   "metadata": {
    "collapsed": false
   },
   "outputs": [
    {
     "name": "stdout",
     "output_type": "stream",
     "text": [
      "Checking the Training on a Single Batch...\n",
      "Epoch  1, CIFAR-10 Batch 1:  Loss: 2.4111499786376953 Validation Accuracy: 0.05000000074505806\n",
      "Epoch  2, CIFAR-10 Batch 1:  Loss: 2.4111499786376953 Validation Accuracy: 0.05000000074505806\n",
      "Epoch  3, CIFAR-10 Batch 1:  Loss: 2.4111499786376953 Validation Accuracy: 0.05000000074505806\n",
      "Epoch  4, CIFAR-10 Batch 1:  Loss: 2.4111499786376953 Validation Accuracy: 0.05000000074505806\n",
      "Epoch  5, CIFAR-10 Batch 1:  Loss: 2.3611502647399902 Validation Accuracy: 0.10000000149011612\n",
      "Epoch  6, CIFAR-10 Batch 1:  Loss: 2.4111499786376953 Validation Accuracy: 0.05000000074505806\n",
      "Epoch  7, CIFAR-10 Batch 1:  Loss: 2.4111499786376953 Validation Accuracy: 0.05000000074505806\n",
      "Epoch  8, CIFAR-10 Batch 1:  Loss: 2.4111499786376953 Validation Accuracy: 0.05000000074505806\n",
      "Epoch  9, CIFAR-10 Batch 1:  Loss: 2.4111499786376953 Validation Accuracy: 0.05000000074505806\n",
      "Epoch 10, CIFAR-10 Batch 1:  Loss: 2.4111499786376953 Validation Accuracy: 0.05000000074505806\n",
      "Epoch 11, CIFAR-10 Batch 1:  Loss: 2.4111499786376953 Validation Accuracy: 0.05000000074505806\n",
      "Epoch 12, CIFAR-10 Batch 1:  Loss: 2.4111499786376953 Validation Accuracy: 0.05000000074505806\n",
      "Epoch 13, CIFAR-10 Batch 1:  Loss: 2.4111499786376953 Validation Accuracy: 0.05000000074505806\n",
      "Epoch 14, CIFAR-10 Batch 1:  Loss: 2.4111499786376953 Validation Accuracy: 0.05000000074505806\n",
      "Epoch 15, CIFAR-10 Batch 1:  Loss: 2.4111499786376953 Validation Accuracy: 0.05000000074505806\n",
      "Epoch 16, CIFAR-10 Batch 1:  Loss: 2.4111499786376953 Validation Accuracy: 0.05000000074505806\n",
      "Epoch 17, CIFAR-10 Batch 1:  Loss: 2.361150026321411 Validation Accuracy: 0.10000000149011612\n",
      "Epoch 18, CIFAR-10 Batch 1:  Loss: 2.361150026321411 Validation Accuracy: 0.10000000149011612\n",
      "Epoch 19, CIFAR-10 Batch 1:  Loss: 2.361150026321411 Validation Accuracy: 0.10000000149011612\n",
      "Epoch 20, CIFAR-10 Batch 1:  Loss: 2.361150026321411 Validation Accuracy: 0.10000000149011612\n",
      "Epoch 21, CIFAR-10 Batch 1:  Loss: 2.361150026321411 Validation Accuracy: 0.10000000149011612\n",
      "Epoch 22, CIFAR-10 Batch 1:  Loss: 2.361150026321411 Validation Accuracy: 0.10000000149011612\n",
      "Epoch 23, CIFAR-10 Batch 1:  Loss: 2.361150026321411 Validation Accuracy: 0.10000000149011612\n",
      "Epoch 24, CIFAR-10 Batch 1:  Loss: 2.361150026321411 Validation Accuracy: 0.10000000149011612\n",
      "Epoch 25, CIFAR-10 Batch 1:  Loss: 2.361150026321411 Validation Accuracy: 0.10000000149011612\n",
      "Epoch 26, CIFAR-10 Batch 1:  Loss: 2.361150026321411 Validation Accuracy: 0.10000000149011612\n",
      "Epoch 27, CIFAR-10 Batch 1:  Loss: 2.361150026321411 Validation Accuracy: 0.10000000149011612\n",
      "Epoch 28, CIFAR-10 Batch 1:  Loss: 2.361150026321411 Validation Accuracy: 0.10000000149011612\n",
      "Epoch 29, CIFAR-10 Batch 1:  Loss: 2.361150026321411 Validation Accuracy: 0.10000000149011612\n",
      "Epoch 30, CIFAR-10 Batch 1:  Loss: 2.361150026321411 Validation Accuracy: 0.10000000149011612\n",
      "Epoch 31, CIFAR-10 Batch 1:  Loss: 2.361150026321411 Validation Accuracy: 0.10000000149011612\n",
      "Epoch 32, CIFAR-10 Batch 1:  Loss: 2.361150026321411 Validation Accuracy: 0.10000000149011612\n",
      "Epoch 33, CIFAR-10 Batch 1:  Loss: 2.361150026321411 Validation Accuracy: 0.10000000149011612\n",
      "Epoch 34, CIFAR-10 Batch 1:  Loss: 2.361150026321411 Validation Accuracy: 0.10000000149011612\n",
      "Epoch 35, CIFAR-10 Batch 1:  Loss: 2.361150026321411 Validation Accuracy: 0.10000000149011612\n",
      "Epoch 36, CIFAR-10 Batch 1:  Loss: 2.361150026321411 Validation Accuracy: 0.10000000149011612\n",
      "Epoch 37, CIFAR-10 Batch 1:  Loss: 2.361150026321411 Validation Accuracy: 0.10000000149011612\n",
      "Epoch 38, CIFAR-10 Batch 1:  Loss: 2.361150026321411 Validation Accuracy: 0.10000000149011612\n",
      "Epoch 39, CIFAR-10 Batch 1:  Loss: 2.361150026321411 Validation Accuracy: 0.10000000149011612\n",
      "Epoch 40, CIFAR-10 Batch 1:  Loss: 2.361150026321411 Validation Accuracy: 0.10000000149011612\n",
      "Epoch 41, CIFAR-10 Batch 1:  Loss: 2.361150026321411 Validation Accuracy: 0.10000000149011612\n",
      "Epoch 42, CIFAR-10 Batch 1:  Loss: 2.361150026321411 Validation Accuracy: 0.10000000149011612\n",
      "Epoch 43, CIFAR-10 Batch 1:  Loss: 2.361150026321411 Validation Accuracy: 0.10000000149011612\n",
      "Epoch 44, CIFAR-10 Batch 1:  Loss: 2.361150026321411 Validation Accuracy: 0.10000000149011612\n",
      "Epoch 45, CIFAR-10 Batch 1:  Loss: 2.361150026321411 Validation Accuracy: 0.10000000149011612\n",
      "Epoch 46, CIFAR-10 Batch 1:  Loss: 2.361150026321411 Validation Accuracy: 0.10000000149011612\n",
      "Epoch 47, CIFAR-10 Batch 1:  Loss: 2.361150026321411 Validation Accuracy: 0.10000000149011612\n",
      "Epoch 48, CIFAR-10 Batch 1:  Loss: 2.361150026321411 Validation Accuracy: 0.10000000149011612\n",
      "Epoch 49, CIFAR-10 Batch 1:  Loss: 2.361150026321411 Validation Accuracy: 0.10000000149011612\n",
      "Epoch 50, CIFAR-10 Batch 1:  Loss: 2.361150026321411 Validation Accuracy: 0.10000000149011612\n"
     ]
    }
   ],
   "source": [
    "\"\"\"\n",
    "DON'T MODIFY ANYTHING IN THIS CELL\n",
    "\"\"\"\n",
    "print('Checking the Training on a Single Batch...')\n",
    "with tf.Session() as sess:\n",
    "    # Initializing the variables\n",
    "    sess.run(tf.global_variables_initializer())\n",
    "    \n",
    "    # Training cycle\n",
    "    for epoch in range(epochs):\n",
    "        batch_i = 1\n",
    "        for batch_features, batch_labels in helper.load_preprocess_training_batch(batch_i, batch_size):\n",
    "            train_neural_network(sess, optimizer, keep_probability, batch_features, batch_labels)\n",
    "        print('Epoch {:>2}, CIFAR-10 Batch {}:  '.format(epoch + 1, batch_i), end='')\n",
    "        print_stats(sess, batch_features, batch_labels, cost, accuracy)"
   ]
  },
  {
   "cell_type": "markdown",
   "metadata": {},
   "source": [
    "### Fully Train the Model\n",
    "Now that you got a good accuracy with a single CIFAR-10 batch, try it with all five batches."
   ]
  },
  {
   "cell_type": "code",
   "execution_count": 12,
   "metadata": {
    "collapsed": false
   },
   "outputs": [
    {
     "name": "stdout",
     "output_type": "stream",
     "text": [
      "Training...\n",
      "Epoch  1, CIFAR-10 Batch 1:  Loss: 2.2787389755249023 Validation Accuracy: 0.125\n",
      "Epoch  1, CIFAR-10 Batch 2:  Loss: 2.186800479888916 Validation Accuracy: 0.25\n",
      "Epoch  1, CIFAR-10 Batch 3:  Loss: 2.135967254638672 Validation Accuracy: 0.30000001192092896\n",
      "Epoch  1, CIFAR-10 Batch 4:  Loss: 2.1575489044189453 Validation Accuracy: 0.2750000059604645\n",
      "Epoch  1, CIFAR-10 Batch 5:  Loss: 2.115110397338867 Validation Accuracy: 0.2750000059604645\n",
      "Epoch  2, CIFAR-10 Batch 1:  Loss: 2.028867721557617 Validation Accuracy: 0.42500001192092896\n",
      "Epoch  2, CIFAR-10 Batch 2:  Loss: 2.0121824741363525 Validation Accuracy: 0.4749999940395355\n",
      "Epoch  2, CIFAR-10 Batch 3:  Loss: 1.9600529670715332 Validation Accuracy: 0.5\n",
      "Epoch  2, CIFAR-10 Batch 4:  Loss: 2.085658550262451 Validation Accuracy: 0.3500000238418579\n",
      "Epoch  2, CIFAR-10 Batch 5:  Loss: 2.004488945007324 Validation Accuracy: 0.4750000238418579\n",
      "Epoch  3, CIFAR-10 Batch 1:  Loss: 2.0748634338378906 Validation Accuracy: 0.40000003576278687\n",
      "Epoch  3, CIFAR-10 Batch 2:  Loss: 1.9748693704605103 Validation Accuracy: 0.5\n",
      "Epoch  3, CIFAR-10 Batch 3:  Loss: 1.9229722023010254 Validation Accuracy: 0.550000011920929\n",
      "Epoch  3, CIFAR-10 Batch 4:  Loss: 1.9246187210083008 Validation Accuracy: 0.550000011920929\n",
      "Epoch  3, CIFAR-10 Batch 5:  Loss: 1.9441953897476196 Validation Accuracy: 0.5\n",
      "Epoch  4, CIFAR-10 Batch 1:  Loss: 1.9335168600082397 Validation Accuracy: 0.5249999761581421\n",
      "Epoch  4, CIFAR-10 Batch 2:  Loss: 1.9288229942321777 Validation Accuracy: 0.5249999761581421\n",
      "Epoch  4, CIFAR-10 Batch 3:  Loss: 1.8225793838500977 Validation Accuracy: 0.6750000715255737\n",
      "Epoch  4, CIFAR-10 Batch 4:  Loss: 1.9578559398651123 Validation Accuracy: 0.5\n",
      "Epoch  4, CIFAR-10 Batch 5:  Loss: 1.9030909538269043 Validation Accuracy: 0.550000011920929\n",
      "Epoch  5, CIFAR-10 Batch 1:  Loss: 1.966586947441101 Validation Accuracy: 0.4749999940395355\n",
      "Epoch  5, CIFAR-10 Batch 2:  Loss: 1.9176628589630127 Validation Accuracy: 0.550000011920929\n",
      "Epoch  5, CIFAR-10 Batch 3:  Loss: 1.7952598333358765 Validation Accuracy: 0.675000011920929\n",
      "Epoch  5, CIFAR-10 Batch 4:  Loss: 1.8393442630767822 Validation Accuracy: 0.625\n",
      "Epoch  5, CIFAR-10 Batch 5:  Loss: 1.8322093486785889 Validation Accuracy: 0.6499999761581421\n",
      "Epoch  6, CIFAR-10 Batch 1:  Loss: 1.925042986869812 Validation Accuracy: 0.5250000357627869\n",
      "Epoch  6, CIFAR-10 Batch 2:  Loss: 1.7978700399398804 Validation Accuracy: 0.675000011920929\n",
      "Epoch  6, CIFAR-10 Batch 3:  Loss: 1.7033272981643677 Validation Accuracy: 0.75\n",
      "Epoch  6, CIFAR-10 Batch 4:  Loss: 1.8568828105926514 Validation Accuracy: 0.625\n",
      "Epoch  6, CIFAR-10 Batch 5:  Loss: 1.8478196859359741 Validation Accuracy: 0.625\n",
      "Epoch  7, CIFAR-10 Batch 1:  Loss: 1.8994364738464355 Validation Accuracy: 0.550000011920929\n",
      "Epoch  7, CIFAR-10 Batch 2:  Loss: 1.8636293411254883 Validation Accuracy: 0.6000000238418579\n",
      "Epoch  7, CIFAR-10 Batch 3:  Loss: 1.730438470840454 Validation Accuracy: 0.7000000476837158\n",
      "Epoch  7, CIFAR-10 Batch 4:  Loss: 1.8632314205169678 Validation Accuracy: 0.6000000238418579\n",
      "Epoch  7, CIFAR-10 Batch 5:  Loss: 1.7481739521026611 Validation Accuracy: 0.7250000238418579\n",
      "Epoch  8, CIFAR-10 Batch 1:  Loss: 1.9291901588439941 Validation Accuracy: 0.5250000357627869\n",
      "Epoch  8, CIFAR-10 Batch 2:  Loss: 1.930374264717102 Validation Accuracy: 0.5249999761581421\n",
      "Epoch  8, CIFAR-10 Batch 3:  Loss: 1.7099807262420654 Validation Accuracy: 0.7250000238418579\n",
      "Epoch  8, CIFAR-10 Batch 4:  Loss: 1.8122117519378662 Validation Accuracy: 0.6500000357627869\n",
      "Epoch  8, CIFAR-10 Batch 5:  Loss: 1.6983661651611328 Validation Accuracy: 0.75\n",
      "Epoch  9, CIFAR-10 Batch 1:  Loss: 1.9240602254867554 Validation Accuracy: 0.550000011920929\n",
      "Epoch  9, CIFAR-10 Batch 2:  Loss: 1.8297407627105713 Validation Accuracy: 0.625\n",
      "Epoch  9, CIFAR-10 Batch 3:  Loss: 1.7394886016845703 Validation Accuracy: 0.7000000476837158\n",
      "Epoch  9, CIFAR-10 Batch 4:  Loss: 1.7664302587509155 Validation Accuracy: 0.7000000476837158\n",
      "Epoch  9, CIFAR-10 Batch 5:  Loss: 1.7676523923873901 Validation Accuracy: 0.7000000476837158\n",
      "Epoch 10, CIFAR-10 Batch 1:  Loss: 1.878115177154541 Validation Accuracy: 0.574999988079071\n",
      "Epoch 10, CIFAR-10 Batch 2:  Loss: 1.8619370460510254 Validation Accuracy: 0.5750000476837158\n",
      "Epoch 10, CIFAR-10 Batch 3:  Loss: 1.707924485206604 Validation Accuracy: 0.75\n",
      "Epoch 10, CIFAR-10 Batch 4:  Loss: 1.746654748916626 Validation Accuracy: 0.7000000476837158\n",
      "Epoch 10, CIFAR-10 Batch 5:  Loss: 1.7539399862289429 Validation Accuracy: 0.699999988079071\n",
      "Epoch 11, CIFAR-10 Batch 1:  Loss: 1.820587158203125 Validation Accuracy: 0.6500000357627869\n",
      "Epoch 11, CIFAR-10 Batch 2:  Loss: 1.8039450645446777 Validation Accuracy: 0.6749999523162842\n",
      "Epoch 11, CIFAR-10 Batch 3:  Loss: 1.5808730125427246 Validation Accuracy: 0.875\n",
      "Epoch 11, CIFAR-10 Batch 4:  Loss: 1.750746488571167 Validation Accuracy: 0.7000000476837158\n",
      "Epoch 11, CIFAR-10 Batch 5:  Loss: 1.692476749420166 Validation Accuracy: 0.7750000357627869\n",
      "Epoch 12, CIFAR-10 Batch 1:  Loss: 1.8596608638763428 Validation Accuracy: 0.6000000238418579\n",
      "Epoch 12, CIFAR-10 Batch 2:  Loss: 1.7902793884277344 Validation Accuracy: 0.675000011920929\n",
      "Epoch 12, CIFAR-10 Batch 3:  Loss: 1.6264326572418213 Validation Accuracy: 0.8500000238418579\n",
      "Epoch 12, CIFAR-10 Batch 4:  Loss: 1.6793402433395386 Validation Accuracy: 0.800000011920929\n",
      "Epoch 12, CIFAR-10 Batch 5:  Loss: 1.706458330154419 Validation Accuracy: 0.75\n",
      "Epoch 13, CIFAR-10 Batch 1:  Loss: 1.8485922813415527 Validation Accuracy: 0.6000000238418579\n",
      "Epoch 13, CIFAR-10 Batch 2:  Loss: 1.7751109600067139 Validation Accuracy: 0.699999988079071\n",
      "Epoch 13, CIFAR-10 Batch 3:  Loss: 1.6741061210632324 Validation Accuracy: 0.7750000357627869\n",
      "Epoch 13, CIFAR-10 Batch 4:  Loss: 1.7587881088256836 Validation Accuracy: 0.7000000476837158\n",
      "Epoch 13, CIFAR-10 Batch 5:  Loss: 1.6753041744232178 Validation Accuracy: 0.7749999761581421\n",
      "Epoch 14, CIFAR-10 Batch 1:  Loss: 1.832136869430542 Validation Accuracy: 0.625\n",
      "Epoch 14, CIFAR-10 Batch 2:  Loss: 1.7972939014434814 Validation Accuracy: 0.6749999523162842\n",
      "Epoch 14, CIFAR-10 Batch 3:  Loss: 1.5705233812332153 Validation Accuracy: 0.9000000357627869\n",
      "Epoch 14, CIFAR-10 Batch 4:  Loss: 1.7373368740081787 Validation Accuracy: 0.7000000476837158\n",
      "Epoch 14, CIFAR-10 Batch 5:  Loss: 1.7330464124679565 Validation Accuracy: 0.7250000238418579\n",
      "Epoch 15, CIFAR-10 Batch 1:  Loss: 1.8551805019378662 Validation Accuracy: 0.6000000238418579\n",
      "Epoch 15, CIFAR-10 Batch 2:  Loss: 1.8025416135787964 Validation Accuracy: 0.6500000357627869\n",
      "Epoch 15, CIFAR-10 Batch 3:  Loss: 1.568333387374878 Validation Accuracy: 0.9000000357627869\n",
      "Epoch 15, CIFAR-10 Batch 4:  Loss: 1.753580093383789 Validation Accuracy: 0.7000000476837158\n",
      "Epoch 15, CIFAR-10 Batch 5:  Loss: 1.6743322610855103 Validation Accuracy: 0.7749999761581421\n",
      "Epoch 16, CIFAR-10 Batch 1:  Loss: 1.8337830305099487 Validation Accuracy: 0.6250000596046448\n",
      "Epoch 16, CIFAR-10 Batch 2:  Loss: 1.7947813272476196 Validation Accuracy: 0.6500000357627869\n",
      "Epoch 16, CIFAR-10 Batch 3:  Loss: 1.6407334804534912 Validation Accuracy: 0.8250000476837158\n",
      "Epoch 16, CIFAR-10 Batch 4:  Loss: 1.7044874429702759 Validation Accuracy: 0.7750000357627869\n",
      "Epoch 16, CIFAR-10 Batch 5:  Loss: 1.7398030757904053 Validation Accuracy: 0.7250000238418579\n",
      "Epoch 17, CIFAR-10 Batch 1:  Loss: 1.7898292541503906 Validation Accuracy: 0.675000011920929\n",
      "Epoch 17, CIFAR-10 Batch 2:  Loss: 1.7927558422088623 Validation Accuracy: 0.675000011920929\n",
      "Epoch 17, CIFAR-10 Batch 3:  Loss: 1.5659996271133423 Validation Accuracy: 0.9000000357627869\n",
      "Epoch 17, CIFAR-10 Batch 4:  Loss: 1.673596739768982 Validation Accuracy: 0.7999999523162842\n",
      "Epoch 17, CIFAR-10 Batch 5:  Loss: 1.6754852533340454 Validation Accuracy: 0.7749999761581421\n",
      "Epoch 18, CIFAR-10 Batch 1:  Loss: 1.7828986644744873 Validation Accuracy: 0.6750000715255737\n",
      "Epoch 18, CIFAR-10 Batch 2:  Loss: 1.8113930225372314 Validation Accuracy: 0.6500000357627869\n",
      "Epoch 18, CIFAR-10 Batch 3:  Loss: 1.6642924547195435 Validation Accuracy: 0.7750000357627869\n",
      "Epoch 18, CIFAR-10 Batch 4:  Loss: 1.790490984916687 Validation Accuracy: 0.675000011920929\n",
      "Epoch 18, CIFAR-10 Batch 5:  Loss: 1.6877669095993042 Validation Accuracy: 0.7750000953674316\n",
      "Epoch 19, CIFAR-10 Batch 1:  Loss: 1.7837163209915161 Validation Accuracy: 0.6750000715255737\n",
      "Epoch 19, CIFAR-10 Batch 2:  Loss: 1.7909353971481323 Validation Accuracy: 0.6749999523162842\n",
      "Epoch 19, CIFAR-10 Batch 3:  Loss: 1.5701875686645508 Validation Accuracy: 0.9000000357627869\n",
      "Epoch 19, CIFAR-10 Batch 4:  Loss: 1.6159591674804688 Validation Accuracy: 0.8500000238418579\n",
      "Epoch 19, CIFAR-10 Batch 5:  Loss: 1.6613662242889404 Validation Accuracy: 0.8000000715255737\n",
      "Epoch 20, CIFAR-10 Batch 1:  Loss: 1.7560888528823853 Validation Accuracy: 0.7000000476837158\n",
      "Epoch 20, CIFAR-10 Batch 2:  Loss: 1.7995928525924683 Validation Accuracy: 0.6499999761581421\n",
      "Epoch 20, CIFAR-10 Batch 3:  Loss: 1.5904426574707031 Validation Accuracy: 0.875\n",
      "Epoch 20, CIFAR-10 Batch 4:  Loss: 1.7013559341430664 Validation Accuracy: 0.75\n",
      "Epoch 20, CIFAR-10 Batch 5:  Loss: 1.629485845565796 Validation Accuracy: 0.8250000476837158\n",
      "Epoch 21, CIFAR-10 Batch 1:  Loss: 1.7635836601257324 Validation Accuracy: 0.7000000476837158\n",
      "Epoch 21, CIFAR-10 Batch 2:  Loss: 1.8146804571151733 Validation Accuracy: 0.6499999761581421\n",
      "Epoch 21, CIFAR-10 Batch 3:  Loss: 1.6121110916137695 Validation Accuracy: 0.8500000238418579\n",
      "Epoch 21, CIFAR-10 Batch 4:  Loss: 1.651532530784607 Validation Accuracy: 0.800000011920929\n",
      "Epoch 21, CIFAR-10 Batch 5:  Loss: 1.760841965675354 Validation Accuracy: 0.7000000476837158\n",
      "Epoch 22, CIFAR-10 Batch 1:  Loss: 1.7488147020339966 Validation Accuracy: 0.7000000476837158\n",
      "Epoch 22, CIFAR-10 Batch 2:  Loss: 1.7366669178009033 Validation Accuracy: 0.7250000238418579\n",
      "Epoch 22, CIFAR-10 Batch 3:  Loss: 1.5519282817840576 Validation Accuracy: 0.925000011920929\n",
      "Epoch 22, CIFAR-10 Batch 4:  Loss: 1.6904487609863281 Validation Accuracy: 0.7750000357627869\n",
      "Epoch 22, CIFAR-10 Batch 5:  Loss: 1.6668963432312012 Validation Accuracy: 0.800000011920929\n",
      "Epoch 23, CIFAR-10 Batch 1:  Loss: 1.7372548580169678 Validation Accuracy: 0.7250000238418579\n",
      "Epoch 23, CIFAR-10 Batch 2:  Loss: 1.7349634170532227 Validation Accuracy: 0.7250000238418579\n",
      "Epoch 23, CIFAR-10 Batch 3:  Loss: 1.619525671005249 Validation Accuracy: 0.8500000834465027\n",
      "Epoch 23, CIFAR-10 Batch 4:  Loss: 1.608379602432251 Validation Accuracy: 0.8500000834465027\n",
      "Epoch 23, CIFAR-10 Batch 5:  Loss: 1.7708828449249268 Validation Accuracy: 0.7000000476837158\n",
      "Epoch 24, CIFAR-10 Batch 1:  Loss: 1.8045861721038818 Validation Accuracy: 0.6500000357627869\n",
      "Epoch 24, CIFAR-10 Batch 2:  Loss: 1.710498571395874 Validation Accuracy: 0.75\n",
      "Epoch 24, CIFAR-10 Batch 3:  Loss: 1.5603713989257812 Validation Accuracy: 0.9000000357627869\n",
      "Epoch 24, CIFAR-10 Batch 4:  Loss: 1.6912782192230225 Validation Accuracy: 0.7749999761581421\n",
      "Epoch 24, CIFAR-10 Batch 5:  Loss: 1.6597106456756592 Validation Accuracy: 0.800000011920929\n",
      "Epoch 25, CIFAR-10 Batch 1:  Loss: 1.7844061851501465 Validation Accuracy: 0.6750000715255737\n",
      "Epoch 25, CIFAR-10 Batch 2:  Loss: 1.8244881629943848 Validation Accuracy: 0.6500000357627869\n",
      "Epoch 25, CIFAR-10 Batch 3:  Loss: 1.5713140964508057 Validation Accuracy: 0.8750000596046448\n",
      "Epoch 25, CIFAR-10 Batch 4:  Loss: 1.635514736175537 Validation Accuracy: 0.8250000476837158\n",
      "Epoch 25, CIFAR-10 Batch 5:  Loss: 1.6361290216445923 Validation Accuracy: 0.8250000476837158\n",
      "Epoch 26, CIFAR-10 Batch 1:  Loss: 1.75199294090271 Validation Accuracy: 0.7000000476837158\n",
      "Epoch 26, CIFAR-10 Batch 2:  Loss: 1.7355560064315796 Validation Accuracy: 0.7250000238418579\n",
      "Epoch 26, CIFAR-10 Batch 3:  Loss: 1.5666745901107788 Validation Accuracy: 0.9000000357627869\n",
      "Epoch 26, CIFAR-10 Batch 4:  Loss: 1.6924749612808228 Validation Accuracy: 0.7749999761581421\n",
      "Epoch 26, CIFAR-10 Batch 5:  Loss: 1.642399787902832 Validation Accuracy: 0.8250000476837158\n",
      "Epoch 27, CIFAR-10 Batch 1:  Loss: 1.8400845527648926 Validation Accuracy: 0.6250000596046448\n",
      "Epoch 27, CIFAR-10 Batch 2:  Loss: 1.7339527606964111 Validation Accuracy: 0.7250000238418579\n",
      "Epoch 27, CIFAR-10 Batch 3:  Loss: 1.6090800762176514 Validation Accuracy: 0.8500000238418579\n",
      "Epoch 27, CIFAR-10 Batch 4:  Loss: 1.6820275783538818 Validation Accuracy: 0.7750000357627869\n",
      "Epoch 27, CIFAR-10 Batch 5:  Loss: 1.637058138847351 Validation Accuracy: 0.8250000476837158\n",
      "Epoch 28, CIFAR-10 Batch 1:  Loss: 1.7698256969451904 Validation Accuracy: 0.7000000476837158\n",
      "Epoch 28, CIFAR-10 Batch 2:  Loss: 1.781467318534851 Validation Accuracy: 0.6749999523162842\n",
      "Epoch 28, CIFAR-10 Batch 3:  Loss: 1.561286211013794 Validation Accuracy: 0.8999999761581421\n",
      "Epoch 28, CIFAR-10 Batch 4:  Loss: 1.628727674484253 Validation Accuracy: 0.8250000476837158\n",
      "Epoch 28, CIFAR-10 Batch 5:  Loss: 1.5863380432128906 Validation Accuracy: 0.875\n",
      "Epoch 29, CIFAR-10 Batch 1:  Loss: 1.837204933166504 Validation Accuracy: 0.625\n",
      "Epoch 29, CIFAR-10 Batch 2:  Loss: 1.8203933238983154 Validation Accuracy: 0.6499999761581421\n",
      "Epoch 29, CIFAR-10 Batch 3:  Loss: 1.6387152671813965 Validation Accuracy: 0.824999988079071\n",
      "Epoch 29, CIFAR-10 Batch 4:  Loss: 1.641302466392517 Validation Accuracy: 0.824999988079071\n",
      "Epoch 29, CIFAR-10 Batch 5:  Loss: 1.6861644983291626 Validation Accuracy: 0.7750000357627869\n",
      "Epoch 30, CIFAR-10 Batch 1:  Loss: 1.7609304189682007 Validation Accuracy: 0.7000000476837158\n",
      "Epoch 30, CIFAR-10 Batch 2:  Loss: 1.7801668643951416 Validation Accuracy: 0.7000000476837158\n",
      "Epoch 30, CIFAR-10 Batch 3:  Loss: 1.536158800125122 Validation Accuracy: 0.925000011920929\n",
      "Epoch 30, CIFAR-10 Batch 4:  Loss: 1.6864783763885498 Validation Accuracy: 0.7749999761581421\n",
      "Epoch 30, CIFAR-10 Batch 5:  Loss: 1.6523916721343994 Validation Accuracy: 0.8000000715255737\n",
      "Epoch 31, CIFAR-10 Batch 1:  Loss: 1.7815306186676025 Validation Accuracy: 0.6750000715255737\n",
      "Epoch 31, CIFAR-10 Batch 2:  Loss: 1.8705041408538818 Validation Accuracy: 0.6000000238418579\n",
      "Epoch 31, CIFAR-10 Batch 3:  Loss: 1.6112079620361328 Validation Accuracy: 0.8500000238418579\n",
      "Epoch 31, CIFAR-10 Batch 4:  Loss: 1.7351268529891968 Validation Accuracy: 0.7250000238418579\n",
      "Epoch 31, CIFAR-10 Batch 5:  Loss: 1.7155230045318604 Validation Accuracy: 0.75\n",
      "Epoch 32, CIFAR-10 Batch 1:  Loss: 1.809053897857666 Validation Accuracy: 0.6499999761581421\n",
      "Epoch 32, CIFAR-10 Batch 2:  Loss: 1.806959629058838 Validation Accuracy: 0.6500000357627869\n",
      "Epoch 32, CIFAR-10 Batch 3:  Loss: 1.6363856792449951 Validation Accuracy: 0.824999988079071\n",
      "Epoch 32, CIFAR-10 Batch 4:  Loss: 1.674100637435913 Validation Accuracy: 0.7749999761581421\n",
      "Epoch 32, CIFAR-10 Batch 5:  Loss: 1.7343251705169678 Validation Accuracy: 0.7250000238418579\n",
      "Epoch 33, CIFAR-10 Batch 1:  Loss: 1.7359048128128052 Validation Accuracy: 0.7250000238418579\n",
      "Epoch 33, CIFAR-10 Batch 2:  Loss: 1.8360109329223633 Validation Accuracy: 0.625\n",
      "Epoch 33, CIFAR-10 Batch 3:  Loss: 1.560326099395752 Validation Accuracy: 0.9000000357627869\n",
      "Epoch 33, CIFAR-10 Batch 4:  Loss: 1.7118680477142334 Validation Accuracy: 0.75\n",
      "Epoch 33, CIFAR-10 Batch 5:  Loss: 1.7914328575134277 Validation Accuracy: 0.675000011920929\n",
      "Epoch 34, CIFAR-10 Batch 1:  Loss: 1.8360744714736938 Validation Accuracy: 0.625\n",
      "Epoch 34, CIFAR-10 Batch 2:  Loss: 1.811161994934082 Validation Accuracy: 0.6499999761581421\n",
      "Epoch 34, CIFAR-10 Batch 3:  Loss: 1.682394027709961 Validation Accuracy: 0.7750000357627869\n",
      "Epoch 34, CIFAR-10 Batch 4:  Loss: 1.6337108612060547 Validation Accuracy: 0.8250000476837158\n",
      "Epoch 34, CIFAR-10 Batch 5:  Loss: 1.878832459449768 Validation Accuracy: 0.574999988079071\n",
      "Epoch 35, CIFAR-10 Batch 1:  Loss: 1.7611329555511475 Validation Accuracy: 0.7000000476837158\n",
      "Epoch 35, CIFAR-10 Batch 2:  Loss: 1.76571524143219 Validation Accuracy: 0.7000000476837158\n",
      "Epoch 35, CIFAR-10 Batch 3:  Loss: 1.6860930919647217 Validation Accuracy: 0.7750000357627869\n",
      "Epoch 35, CIFAR-10 Batch 4:  Loss: 1.6859346628189087 Validation Accuracy: 0.7749999761581421\n",
      "Epoch 35, CIFAR-10 Batch 5:  Loss: 1.7331657409667969 Validation Accuracy: 0.7250000238418579\n",
      "Epoch 36, CIFAR-10 Batch 1:  Loss: 1.73611319065094 Validation Accuracy: 0.7250000238418579\n",
      "Epoch 36, CIFAR-10 Batch 2:  Loss: 1.8908964395523071 Validation Accuracy: 0.5750000476837158\n",
      "Epoch 36, CIFAR-10 Batch 3:  Loss: 1.752563714981079 Validation Accuracy: 0.699999988079071\n",
      "Epoch 36, CIFAR-10 Batch 4:  Loss: 1.6861658096313477 Validation Accuracy: 0.7750000357627869\n",
      "Epoch 36, CIFAR-10 Batch 5:  Loss: 1.7604044675827026 Validation Accuracy: 0.7000000476837158\n",
      "Epoch 37, CIFAR-10 Batch 1:  Loss: 1.751316785812378 Validation Accuracy: 0.699999988079071\n",
      "Epoch 37, CIFAR-10 Batch 2:  Loss: 1.8261773586273193 Validation Accuracy: 0.625\n",
      "Epoch 37, CIFAR-10 Batch 3:  Loss: 1.5966241359710693 Validation Accuracy: 0.875\n",
      "Epoch 37, CIFAR-10 Batch 4:  Loss: 1.7922499179840088 Validation Accuracy: 0.6750000715255737\n",
      "Epoch 37, CIFAR-10 Batch 5:  Loss: 1.6612701416015625 Validation Accuracy: 0.800000011920929\n",
      "Epoch 38, CIFAR-10 Batch 1:  Loss: 1.9257493019104004 Validation Accuracy: 0.5250000357627869\n",
      "Epoch 38, CIFAR-10 Batch 2:  Loss: 1.8610661029815674 Validation Accuracy: 0.6000000238418579\n",
      "Epoch 38, CIFAR-10 Batch 3:  Loss: 1.7349121570587158 Validation Accuracy: 0.7250000238418579\n",
      "Epoch 38, CIFAR-10 Batch 4:  Loss: 1.6624650955200195 Validation Accuracy: 0.8000000715255737\n",
      "Epoch 38, CIFAR-10 Batch 5:  Loss: 1.6650536060333252 Validation Accuracy: 0.7999999523162842\n",
      "Epoch 39, CIFAR-10 Batch 1:  Loss: 1.7966943979263306 Validation Accuracy: 0.675000011920929\n",
      "Epoch 39, CIFAR-10 Batch 2:  Loss: 1.8095556497573853 Validation Accuracy: 0.6499999761581421\n",
      "Epoch 39, CIFAR-10 Batch 3:  Loss: 1.7111512422561646 Validation Accuracy: 0.75\n",
      "Epoch 39, CIFAR-10 Batch 4:  Loss: 1.8116414546966553 Validation Accuracy: 0.6499999761581421\n",
      "Epoch 39, CIFAR-10 Batch 5:  Loss: 1.7361793518066406 Validation Accuracy: 0.7250000238418579\n",
      "Epoch 40, CIFAR-10 Batch 1:  Loss: 1.8360919952392578 Validation Accuracy: 0.625\n",
      "Epoch 40, CIFAR-10 Batch 2:  Loss: 1.7355501651763916 Validation Accuracy: 0.7250000238418579\n",
      "Epoch 40, CIFAR-10 Batch 3:  Loss: 1.5861365795135498 Validation Accuracy: 0.875\n",
      "Epoch 40, CIFAR-10 Batch 4:  Loss: 1.686150074005127 Validation Accuracy: 0.7749999761581421\n",
      "Epoch 40, CIFAR-10 Batch 5:  Loss: 1.7518916130065918 Validation Accuracy: 0.7000000476837158\n",
      "Epoch 41, CIFAR-10 Batch 1:  Loss: 1.8845655918121338 Validation Accuracy: 0.574999988079071\n",
      "Epoch 41, CIFAR-10 Batch 2:  Loss: 1.8369954824447632 Validation Accuracy: 0.625\n",
      "Epoch 41, CIFAR-10 Batch 3:  Loss: 1.7014634609222412 Validation Accuracy: 0.7500000596046448\n",
      "Epoch 41, CIFAR-10 Batch 4:  Loss: 1.805474042892456 Validation Accuracy: 0.6499999761581421\n",
      "Epoch 41, CIFAR-10 Batch 5:  Loss: 1.751267433166504 Validation Accuracy: 0.7000000476837158\n",
      "Epoch 42, CIFAR-10 Batch 1:  Loss: 1.7608892917633057 Validation Accuracy: 0.7000000476837158\n",
      "Epoch 42, CIFAR-10 Batch 2:  Loss: 1.8611358404159546 Validation Accuracy: 0.6000000238418579\n",
      "Epoch 42, CIFAR-10 Batch 3:  Loss: 1.7610303163528442 Validation Accuracy: 0.7000000476837158\n",
      "Epoch 42, CIFAR-10 Batch 4:  Loss: 1.735626459121704 Validation Accuracy: 0.7250000238418579\n",
      "Epoch 42, CIFAR-10 Batch 5:  Loss: 1.8111895322799683 Validation Accuracy: 0.6500000357627869\n",
      "Epoch 43, CIFAR-10 Batch 1:  Loss: 1.7611511945724487 Validation Accuracy: 0.7000000476837158\n",
      "Epoch 43, CIFAR-10 Batch 2:  Loss: 1.8605868816375732 Validation Accuracy: 0.6000000238418579\n",
      "Epoch 43, CIFAR-10 Batch 3:  Loss: 1.7353019714355469 Validation Accuracy: 0.7250000238418579\n",
      "Epoch 43, CIFAR-10 Batch 4:  Loss: 1.8109885454177856 Validation Accuracy: 0.6499999761581421\n",
      "Epoch 43, CIFAR-10 Batch 5:  Loss: 1.7361503839492798 Validation Accuracy: 0.7250000238418579\n",
      "Epoch 44, CIFAR-10 Batch 1:  Loss: 1.8105862140655518 Validation Accuracy: 0.6500000357627869\n",
      "Epoch 44, CIFAR-10 Batch 2:  Loss: 1.8365843296051025 Validation Accuracy: 0.625\n",
      "Epoch 44, CIFAR-10 Batch 3:  Loss: 1.733959674835205 Validation Accuracy: 0.7250000238418579\n",
      "Epoch 44, CIFAR-10 Batch 4:  Loss: 1.7477853298187256 Validation Accuracy: 0.7000000476837158\n",
      "Epoch 44, CIFAR-10 Batch 5:  Loss: 1.736149549484253 Validation Accuracy: 0.7250000238418579\n",
      "Epoch 45, CIFAR-10 Batch 1:  Loss: 1.8361501693725586 Validation Accuracy: 0.6250000596046448\n",
      "Epoch 45, CIFAR-10 Batch 2:  Loss: 1.9617807865142822 Validation Accuracy: 0.5\n",
      "Epoch 45, CIFAR-10 Batch 3:  Loss: 1.6111505031585693 Validation Accuracy: 0.8500000834465027\n",
      "Epoch 45, CIFAR-10 Batch 4:  Loss: 1.738276720046997 Validation Accuracy: 0.7250000238418579\n",
      "Epoch 45, CIFAR-10 Batch 5:  Loss: 1.6861519813537598 Validation Accuracy: 0.7750000953674316\n",
      "Epoch 46, CIFAR-10 Batch 1:  Loss: 1.985843300819397 Validation Accuracy: 0.4750000238418579\n",
      "Epoch 46, CIFAR-10 Batch 2:  Loss: 1.8111501932144165 Validation Accuracy: 0.6499999761581421\n",
      "Epoch 46, CIFAR-10 Batch 3:  Loss: 1.8361501693725586 Validation Accuracy: 0.625\n",
      "Epoch 46, CIFAR-10 Batch 4:  Loss: 1.7855098247528076 Validation Accuracy: 0.675000011920929\n",
      "Epoch 46, CIFAR-10 Batch 5:  Loss: 1.8611700534820557 Validation Accuracy: 0.5999999642372131\n",
      "Epoch 47, CIFAR-10 Batch 1:  Loss: 1.935753583908081 Validation Accuracy: 0.5250000357627869\n",
      "Epoch 47, CIFAR-10 Batch 2:  Loss: 1.8840265274047852 Validation Accuracy: 0.5750000476837158\n",
      "Epoch 47, CIFAR-10 Batch 3:  Loss: 1.7859302759170532 Validation Accuracy: 0.6750000715255737\n",
      "Epoch 47, CIFAR-10 Batch 4:  Loss: 1.8867599964141846 Validation Accuracy: 0.5750000476837158\n",
      "Epoch 47, CIFAR-10 Batch 5:  Loss: 1.7861502170562744 Validation Accuracy: 0.6749999523162842\n",
      "Epoch 48, CIFAR-10 Batch 1:  Loss: 1.811052680015564 Validation Accuracy: 0.6500000357627869\n",
      "Epoch 48, CIFAR-10 Batch 2:  Loss: 1.8354811668395996 Validation Accuracy: 0.625\n",
      "Epoch 48, CIFAR-10 Batch 3:  Loss: 1.7361502647399902 Validation Accuracy: 0.7250000238418579\n",
      "Epoch 48, CIFAR-10 Batch 4:  Loss: 1.7594249248504639 Validation Accuracy: 0.699999988079071\n",
      "Epoch 48, CIFAR-10 Batch 5:  Loss: 1.8361501693725586 Validation Accuracy: 0.625\n",
      "Epoch 49, CIFAR-10 Batch 1:  Loss: 1.886017084121704 Validation Accuracy: 0.5750000476837158\n",
      "Epoch 49, CIFAR-10 Batch 2:  Loss: 1.8611500263214111 Validation Accuracy: 0.6000000238418579\n",
      "Epoch 49, CIFAR-10 Batch 3:  Loss: 1.7111375331878662 Validation Accuracy: 0.7500000596046448\n",
      "Epoch 49, CIFAR-10 Batch 4:  Loss: 1.7877552509307861 Validation Accuracy: 0.675000011920929\n",
      "Epoch 49, CIFAR-10 Batch 5:  Loss: 1.861139178276062 Validation Accuracy: 0.6000000238418579\n",
      "Epoch 50, CIFAR-10 Batch 1:  Loss: 1.9111491441726685 Validation Accuracy: 0.550000011920929\n",
      "Epoch 50, CIFAR-10 Batch 2:  Loss: 1.8062149286270142 Validation Accuracy: 0.6500000357627869\n",
      "Epoch 50, CIFAR-10 Batch 3:  Loss: 1.796255111694336 Validation Accuracy: 0.675000011920929\n",
      "Epoch 50, CIFAR-10 Batch 4:  Loss: 1.7613495588302612 Validation Accuracy: 0.7000000476837158\n",
      "Epoch 50, CIFAR-10 Batch 5:  Loss: 1.8361486196517944 Validation Accuracy: 0.625\n"
     ]
    }
   ],
   "source": [
    "\"\"\"\n",
    "DON'T MODIFY ANYTHING IN THIS CELL\n",
    "\"\"\"\n",
    "save_model_path = './image_classification'\n",
    "\n",
    "print('Training...')\n",
    "with tf.Session() as sess:\n",
    "    # Initializing the variables\n",
    "    sess.run(tf.global_variables_initializer())\n",
    "    \n",
    "    # Training cycle\n",
    "    for epoch in range(epochs):\n",
    "        # Loop over all batches\n",
    "        n_batches = 5\n",
    "        for batch_i in range(1, n_batches + 1):\n",
    "            for batch_features, batch_labels in helper.load_preprocess_training_batch(batch_i, batch_size):\n",
    "                train_neural_network(sess, optimizer, keep_probability, batch_features, batch_labels)\n",
    "            print('Epoch {:>2}, CIFAR-10 Batch {}:  '.format(epoch + 1, batch_i), end='')\n",
    "            print_stats(sess, batch_features, batch_labels, cost, accuracy)\n",
    "            \n",
    "    # Save Model\n",
    "    saver = tf.train.Saver()\n",
    "    save_path = saver.save(sess, save_model_path)"
   ]
  },
  {
   "cell_type": "markdown",
   "metadata": {},
   "source": [
    "# Checkpoint\n",
    "The model has been saved to disk.\n",
    "## Test Model\n",
    "Test your model against the test dataset.  This will be your final accuracy. You should have an accuracy greater than 50%. If you don't, keep tweaking the model architecture and parameters."
   ]
  },
  {
   "cell_type": "code",
   "execution_count": 13,
   "metadata": {
    "collapsed": false
   },
   "outputs": [
    {
     "name": "stdout",
     "output_type": "stream",
     "text": [
      "Testing Accuracy: 0.5435126582278481\n",
      "\n"
     ]
    },
    {
     "data": {
      "image/png": "[encoded data removed]",
      "text/plain": [
       "<matplotlib.figure.Figure at 0x21ed1c14828>"
      ]
     },
     "metadata": {
      "image/png": {
       "height": 319,
       "width": 355
      }
     },
     "output_type": "display_data"
    }
   ],
   "source": [
    "\"\"\"\n",
    "DON'T MODIFY ANYTHING IN THIS CELL\n",
    "\"\"\"\n",
    "%matplotlib inline\n",
    "%config InlineBackend.figure_format = 'retina'\n",
    "\n",
    "import tensorflow as tf\n",
    "import pickle\n",
    "import helper\n",
    "import random\n",
    "\n",
    "# Set batch size if not already set\n",
    "try:\n",
    "    if batch_size:\n",
    "        pass\n",
    "except NameError:\n",
    "    batch_size = 64\n",
    "\n",
    "save_model_path = './image_classification'\n",
    "n_samples = 4\n",
    "top_n_predictions = 3\n",
    "\n",
    "def test_model():\n",
    "    \"\"\"\n",
    "    Test the saved model against the test dataset\n",
    "    \"\"\"\n",
    "\n",
    "    test_features, test_labels = pickle.load(open('preprocess_training.p', mode='rb'))\n",
    "    loaded_graph = tf.Graph()\n",
    "\n",
    "    with tf.Session(graph=loaded_graph) as sess:\n",
    "        # Load model\n",
    "        loader = tf.train.import_meta_graph(save_model_path + '.meta')\n",
    "        loader.restore(sess, save_model_path)\n",
    "\n",
    "        # Get Tensors from loaded model\n",
    "        loaded_x = loaded_graph.get_tensor_by_name('x:0')\n",
    "        loaded_y = loaded_graph.get_tensor_by_name('y:0')\n",
    "        loaded_keep_prob = loaded_graph.get_tensor_by_name('keep_prob:0')\n",
    "        loaded_logits = loaded_graph.get_tensor_by_name('logits:0')\n",
    "        loaded_acc = loaded_graph.get_tensor_by_name('accuracy:0')\n",
    "        \n",
    "        # Get accuracy in batches for memory limitations\n",
    "        test_batch_acc_total = 0\n",
    "        test_batch_count = 0\n",
    "        \n",
    "        for train_feature_batch, train_label_batch in helper.batch_features_labels(test_features, test_labels, batch_size):\n",
    "            test_batch_acc_total += sess.run(\n",
    "                loaded_acc,\n",
    "                feed_dict={loaded_x: train_feature_batch, loaded_y: train_label_batch, loaded_keep_prob: 1.0})\n",
    "            test_batch_count += 1\n",
    "\n",
    "        print('Testing Accuracy: {}\\n'.format(test_batch_acc_total/test_batch_count))\n",
    "\n",
    "        # Print Random Samples\n",
    "        random_test_features, random_test_labels = tuple(zip(*random.sample(list(zip(test_features, test_labels)), n_samples)))\n",
    "        random_test_predictions = sess.run(\n",
    "            tf.nn.top_k(tf.nn.softmax(loaded_logits), top_n_predictions),\n",
    "            feed_dict={loaded_x: random_test_features, loaded_y: random_test_labels, loaded_keep_prob: 1.0})\n",
    "        helper.display_image_predictions(random_test_features, random_test_labels, random_test_predictions)\n",
    "\n",
    "\n",
    "test_model()"
   ]
  },
  {
   "cell_type": "markdown",
   "metadata": {},
   "source": [
    "## Why 50-70% Accuracy?\n",
    "You might be wondering why you can't get an accuracy any higher. First things first, 50% isn't bad for a simple CNN.  Pure guessing would get you 10% accuracy. However, you might notice people are getting scores [well above 70%](http://rodrigob.github.io/are_we_there_yet/build/classification_datasets_results.html#43494641522d3130).  That's because we haven't taught you all there is to know about neural networks. We still need to cover a few more techniques.\n",
    "## Submitting This Project\n",
    "When submitting this project, make sure to run all the cells before saving the notebook.  Save the notebook file as \"dlnd_image_classification.ipynb\" and save it as a HTML file under \"File\" -> \"Download as\".  Include the \"helper.py\" and \"problem_unittests.py\" files in your submission."
   ]
  }
 ],
 "metadata": {
  "kernelspec": {
   "display_name": "Python [default]",
   "language": "python",
   "name": "python3"
  },
  "language_info": {
   "codemirror_mode": {
    "name": "ipython",
    "version": 3
   },
   "file_extension": ".py",
   "mimetype": "text/x-python",
   "name": "python",
   "nbconvert_exporter": "python",
   "pygments_lexer": "ipython3",
   "version": "3.5.2"
  }
 },
 "nbformat": 4,
 "nbformat_minor": 0
}
